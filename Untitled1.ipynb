{
 "cells": [
  {
   "cell_type": "markdown",
   "id": "b3a67587-9848-484c-ad1e-975b27bdf5cf",
   "metadata": {},
   "source": [
    "Full Notebook"
   ]
  },
  {
   "cell_type": "markdown",
   "id": "016def2e-b3ff-4fc0-9add-8941ab29dae9",
   "metadata": {},
   "source": [
    "# Iris Data Set"
   ]
  },
  {
   "cell_type": "code",
   "execution_count": null,
   "id": "d90c6eb7-f72a-4677-9cc2-79e06a05b510",
   "metadata": {},
   "outputs": [],
   "source": []
  }
 ],
 "metadata": {
  "kernelspec": {
   "display_name": "Python 3 (ipykernel)",
   "language": "python",
   "name": "python3"
  },
  "language_info": {
   "codemirror_mode": {
    "name": "ipython",
    "version": 3
   },
   "file_extension": ".py",
   "mimetype": "text/x-python",
   "name": "python",
   "nbconvert_exporter": "python",
   "pygments_lexer": "ipython3",
   "version": "3.12.1"
  }
 },
 "nbformat": 4,
 "nbformat_minor": 5
}
