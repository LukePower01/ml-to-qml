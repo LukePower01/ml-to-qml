{
 "cells": [
  {
   "cell_type": "code",
   "execution_count": 1,
   "id": "22bead26-48ee-44c5-9b69-8fcb17bbb777",
   "metadata": {},
   "outputs": [],
   "source": [
    "import time\n",
    "start_time = time.time()\n",
    "from qiskit_ibm_provider import IBMProvider\n",
    "provider = IBMProvider()"
   ]
  },
  {
   "cell_type": "code",
   "execution_count": 15,
   "id": "1965f14d-2665-47ea-b88f-11649c648fa5",
   "metadata": {},
   "outputs": [],
   "source": [
    "# Standard imports\n",
    "import numpy as np\n",
    "import pandas as pd\n",
    "import time\n",
    "import warnings\n",
    "\n",
    "# Qiskit \n",
    "from qiskit import QuantumCircuit, transpile\n",
    "from qiskit.circuit import Parameter\n",
    "from qiskit.circuit.library import ZZFeatureMap, RealAmplitudes, EfficientSU2, TwoLocal\n",
    "from qiskit_machine_learning.algorithms.classifiers import NeuralNetworkClassifier, VQC\n",
    "from qiskit_machine_learning.algorithms.regressors import NeuralNetworkRegressor, VQR\n",
    "from qiskit_machine_learning.neural_networks import SamplerQNN, EstimatorQNN\n",
    "from qiskit_machine_learning.circuit.library import QNNCircuit\n",
    "from qiskit.primitives import Sampler\n",
    "from qiskit_algorithms.optimizers import COBYLA, L_BFGS_B\n",
    "from qiskit_algorithms.utils import algorithm_globals\n",
    "\n",
    "# Visualization libraries\n",
    "from matplotlib import pyplot as plt\n",
    "import seaborn as sns\n",
    "from qiskit.visualization import plot_histogram\n",
    "from IPython.display import clear_output\n",
    "\n",
    "# Machine learning and preprocessing\n",
    "from sklearn.datasets import load_iris\n",
    "from sklearn.model_selection import train_test_split\n",
    "from sklearn.preprocessing import StandardScaler, MinMaxScaler\n",
    "from sklearn.exceptions import ConvergenceWarning\n",
    "from sklearn.svm import SVC\n",
    "from sklearn.ensemble import RandomForestClassifier\n",
    "from sklearn.decomposition import PCA"
   ]
  },
  {
   "cell_type": "code",
   "execution_count": 7,
   "id": "e1c45833-e68a-48bb-a7d5-c269465dbc24",
   "metadata": {},
   "outputs": [],
   "source": [
    "# -*- coding: utf-8 -*-\n",
    "\n",
    "# This code is part of Qiskit.\n",
    "#\n",
    "# (C) Copyright IBM 2018, 2020.\n",
    "#\n",
    "# This code is licensed under the Apache License, Version 2.0. You may\n",
    "# obtain a copy of this license in the LICENSE.txt file in the root directory\n",
    "# of this source tree or at http://www.apache.org/licenses/LICENSE-2.0.\n",
    "#\n",
    "# Any modifications or derivative works of this code must retain this\n",
    "# copyright notice, and modified files need to carry a notice indicating\n",
    "# that they have been altered from the originals.\n",
    "\n",
    "\"\"\"\n",
    "iris dataset\n",
    "\"\"\"\n",
    "\n",
    "import numpy as np\n",
    "from sklearn import datasets\n",
    "from sklearn.model_selection import train_test_split\n",
    "from sklearn.preprocessing import StandardScaler, MinMaxScaler\n",
    "from sklearn.decomposition import PCA\n",
    "\n",
    "\n",
    "def iris(training_size, test_size, n, plot_data=False):\n",
    "    \"\"\" returns iris dataset \"\"\"\n",
    "    class_labels = [r'A', r'B', r'C']\n",
    "    data, target = datasets.load_iris(return_X_y=True)\n",
    "    sample_train, sample_test, label_train, label_test = \\\n",
    "        train_test_split(data, target, test_size=1, random_state=42)\n",
    "\n",
    "    # Now we standardize for gaussian around 0 with unit variance\n",
    "    std_scale = StandardScaler().fit(sample_train)\n",
    "    sample_train = std_scale.transform(sample_train)\n",
    "    sample_test = std_scale.transform(sample_test)\n",
    "\n",
    "    # Now reduce number of features to number of qubits\n",
    "    pca = PCA(n_components=n).fit(sample_train)\n",
    "    sample_train = pca.transform(sample_train)\n",
    "    sample_test = pca.transform(sample_test)\n",
    "\n",
    "    # Scale to the range (-1,+1)\n",
    "    samples = np.append(sample_train, sample_test, axis=0)\n",
    "    minmax_scale = MinMaxScaler((-1, 1)).fit(samples)\n",
    "    sample_train = minmax_scale.transform(sample_train)\n",
    "    sample_test = minmax_scale.transform(sample_test)\n",
    "\n",
    "    # Pick training size number of samples from each distro\n",
    "    training_input = {key: (sample_train[label_train == k, :])[:training_size]\n",
    "                      for k, key in enumerate(class_labels)}\n",
    "    test_input = {key: (sample_test[label_test == k, :])[:test_size]\n",
    "                  for k, key in enumerate(class_labels)}\n",
    "\n",
    "    if plot_data:\n",
    "        try:\n",
    "            import matplotlib.pyplot as plt\n",
    "        except ImportError:\n",
    "            raise NameError('Matplotlib not installed. Please install it before plotting')\n",
    "        for k in range(0, 3):\n",
    "            plt.scatter(sample_train[label_train == k, 0][:training_size],\n",
    "                        sample_train[label_train == k, 1][:training_size])\n",
    "\n",
    "        plt.title(\"Iris dataset\")\n",
    "        plt.show()\n",
    "\n",
    "    return sample_train, training_input, test_input, class_labels"
   ]
  },
  {
   "cell_type": "code",
   "execution_count": 39,
   "id": "5dc880df-523d-464f-97d7-f1dc9f26da97",
   "metadata": {},
   "outputs": [],
   "source": [
    "feature_dim = 4 # dimension of each data point\n",
    "training_dataset_size = 120\n",
    "testing_dataset_size = 30\n",
    "random_seed = 10598\n",
    "algorithm_globals.random_seed = 4701\n",
    "\n",
    "sample_Total, training_input, test_input, class_labels = iris(\n",
    "    training_size=training_dataset_size,\n",
    "    test_size=testing_dataset_size,\n",
    "    n=feature_dim,\n",
    "    plot_data=False\n",
    ")"
   ]
  },
  {
   "cell_type": "code",
   "execution_count": 80,
   "id": "478e8b96-3d4f-4a2d-924c-26dca530e313",
   "metadata": {},
   "outputs": [],
   "source": [
    "data = training_input "
   ]
  },
  {
   "cell_type": "code",
   "execution_count": 81,
   "id": "1a2f9499-9eee-4848-9c58-6765a391605b",
   "metadata": {},
   "outputs": [],
   "source": [
    "all_data = []\n",
    "\n",
    "for class_name, features in data.items():\n",
    "    # Create a column for the class labels\n",
    "    class_column = np.full((features.shape[0], 1), class_name)\n",
    "    # Concatenate the class column with the features\n",
    "    class_features = np.hstack((features, class_column))\n",
    "    # Append to the master list\n",
    "    all_data.append(class_features)\n",
    "\n",
    "# Combine all class features into a single array\n",
    "combined_data = np.vstack(all_data)"
   ]
  },
  {
   "cell_type": "code",
   "execution_count": 86,
   "id": "344381e8-6207-45f6-a3fb-6b2e8fa08b7b",
   "metadata": {},
   "outputs": [],
   "source": [
    "# Correcting the type conversion to avoid the AttributeError\n",
    "\n",
    "# Extract the features (first 4 columns) and convert them to np.float64\n",
    "features = combined_data[:, :4].astype(np.float64)  # Use np.float64 for numerical operations\n",
    "\n",
    "# Extract the class labels (last column) and ensure it's a 2D array of shape (150, 1)\n",
    "class_labels = combined_data[:, 4].reshape(-1, 1)\n"
   ]
  },
  {
   "cell_type": "code",
   "execution_count": 45,
   "id": "027f6727-5dd4-46bb-9ab9-0b07ff844207",
   "metadata": {},
   "outputs": [],
   "source": [
    "optimizer=COBYLA(maxiter=100)\n",
    "feature_map = ZZFeatureMap(feature_dimension=4)"
   ]
  },
  {
   "cell_type": "code",
   "execution_count": 46,
   "id": "bac9d5ce-085f-462f-a08a-c72956c3939a",
   "metadata": {},
   "outputs": [],
   "source": [
    "sampler = Sampler()"
   ]
  },
  {
   "cell_type": "code",
   "execution_count": 49,
   "id": "5ff3ae2d-8d60-456d-8090-8d908c65712e",
   "metadata": {},
   "outputs": [],
   "source": [
    "    vqc = VQC(\n",
    "        sampler = sampler, \n",
    "        feature_map = feature_map,\n",
    "        ansatz = None, \n",
    "        optimizer = optimizer,)"
   ]
  },
  {
   "cell_type": "code",
   "execution_count": 68,
   "id": "9f5d4c8c-fd28-4af8-8144-19ff3df19beb",
   "metadata": {},
   "outputs": [
    {
     "ename": "NameError",
     "evalue": "name 'sample_train' is not defined",
     "output_type": "error",
     "traceback": [
      "\u001b[0;31m---------------------------------------------------------------------------\u001b[0m",
      "\u001b[0;31mNameError\u001b[0m                                 Traceback (most recent call last)",
      "Cell \u001b[0;32mIn[68], line 1\u001b[0m\n\u001b[0;32m----> 1\u001b[0m \u001b[43msample_train\u001b[49m\n",
      "\u001b[0;31mNameError\u001b[0m: name 'sample_train' is not defined"
     ]
    }
   ],
   "source": [
    "sample_train"
   ]
  },
  {
   "cell_type": "code",
   "execution_count": 87,
   "id": "96f31ddf-05d0-410d-af6c-99ef25b5095d",
   "metadata": {},
   "outputs": [
    {
     "data": {
      "text/plain": [
       "<qiskit_machine_learning.algorithms.classifiers.vqc.VQC at 0x18b9af080>"
      ]
     },
     "execution_count": 87,
     "metadata": {},
     "output_type": "execute_result"
    }
   ],
   "source": [
    "vqc.fit(features, class_labels)"
   ]
  },
  {
   "cell_type": "code",
   "execution_count": 116,
   "id": "5eb3ec4a-b797-42b9-85a3-5d2f9474ec7b",
   "metadata": {},
   "outputs": [
    {
     "data": {
      "text/plain": [
       "<bound method NeuralNetworkClassifier.score of <qiskit_machine_learning.algorithms.classifiers.vqc.VQC object at 0x18b9af080>>"
      ]
     },
     "execution_count": 116,
     "metadata": {},
     "output_type": "execute_result"
    }
   ],
   "source": [
    "vqc.score"
   ]
  },
  {
   "cell_type": "code",
   "execution_count": 103,
   "id": "9d0a326d-939e-42db-aa56-afd400f47ddf",
   "metadata": {},
   "outputs": [
    {
     "ename": "ModuleNotFoundError",
     "evalue": "No module named 'qiskit_ibm_backend'",
     "output_type": "error",
     "traceback": [
      "\u001b[0;31m---------------------------------------------------------------------------\u001b[0m",
      "\u001b[0;31mModuleNotFoundError\u001b[0m                       Traceback (most recent call last)",
      "Cell \u001b[0;32mIn[103], line 1\u001b[0m\n\u001b[0;32m----> 1\u001b[0m \u001b[38;5;28;01mfrom\u001b[39;00m \u001b[38;5;21;01mqiskit_ibm_backend\u001b[39;00m \u001b[38;5;28;01mimport\u001b[39;00m IBMBackend\n",
      "\u001b[0;31mModuleNotFoundError\u001b[0m: No module named 'qiskit_ibm_backend'"
     ]
    }
   ],
   "source": [
    "from qiskit_ibm_backend import IBMBackend"
   ]
  },
  {
   "cell_type": "code",
   "execution_count": 112,
   "id": "ef455e38-05e5-4a0d-b2cf-c94746444b88",
   "metadata": {},
   "outputs": [],
   "source": [
    "backends = provider.backends()"
   ]
  },
  {
   "cell_type": "code",
   "execution_count": 114,
   "id": "cb8d06bc-d557-4445-acf1-23df25a4563e",
   "metadata": {},
   "outputs": [
    {
     "data": {
      "text/plain": [
       "<IBMBackend('ibmq_qasm_simulator')>"
      ]
     },
     "execution_count": 114,
     "metadata": {},
     "output_type": "execute_result"
    }
   ],
   "source": [
    "least_busy(backends)"
   ]
  },
  {
   "cell_type": "code",
   "execution_count": 109,
   "id": "d6b63714-d291-4bee-b318-bf05f6c484dc",
   "metadata": {},
   "outputs": [
    {
     "ename": "NameError",
     "evalue": "name 'Backends' is not defined",
     "output_type": "error",
     "traceback": [
      "\u001b[0;31m---------------------------------------------------------------------------\u001b[0m",
      "\u001b[0;31mNameError\u001b[0m                                 Traceback (most recent call last)",
      "Cell \u001b[0;32mIn[109], line 1\u001b[0m\n\u001b[0;32m----> 1\u001b[0m backend \u001b[38;5;241m=\u001b[39m \u001b[43mBackends\u001b[49m\u001b[38;5;241m.\u001b[39mleast_busy\n",
      "\u001b[0;31mNameError\u001b[0m: name 'Backends' is not defined"
     ]
    }
   ],
   "source": []
  },
  {
   "cell_type": "code",
   "execution_count": 91,
   "id": "e23ca138-6491-4bd9-b735-bbde91724705",
   "metadata": {},
   "outputs": [
    {
     "ename": "QiskitBackendNotFoundError",
     "evalue": "'No backend matches the criteria'",
     "output_type": "error",
     "traceback": [
      "\u001b[0;31m---------------------------------------------------------------------------\u001b[0m",
      "\u001b[0;31mQiskitBackendNotFoundError\u001b[0m                Traceback (most recent call last)",
      "Cell \u001b[0;32mIn[91], line 11\u001b[0m\n\u001b[1;32m      8\u001b[0m ansatz \u001b[38;5;241m=\u001b[39m RealAmplitudes(num_qubits\u001b[38;5;241m=\u001b[39m\u001b[38;5;241m2\u001b[39m, reps\u001b[38;5;241m=\u001b[39m\u001b[38;5;241m1\u001b[39m)\n\u001b[1;32m     10\u001b[0m \u001b[38;5;66;03m# Select a backend\u001b[39;00m\n\u001b[0;32m---> 11\u001b[0m backend \u001b[38;5;241m=\u001b[39m \u001b[43mprovider\u001b[49m\u001b[38;5;241;43m.\u001b[39;49m\u001b[43mget_backend\u001b[49m\u001b[43m(\u001b[49m\u001b[38;5;124;43m'\u001b[39;49m\u001b[38;5;124;43mibmq_manila\u001b[39;49m\u001b[38;5;124;43m'\u001b[39;49m\u001b[43m)\u001b[49m\n\u001b[1;32m     13\u001b[0m \u001b[38;5;66;03m# Initialize the Sampler\u001b[39;00m\n\u001b[1;32m     14\u001b[0m sampler \u001b[38;5;241m=\u001b[39m Sampler(backend\u001b[38;5;241m=\u001b[39mbackend)\n",
      "File \u001b[0;32m~/Library/jupyterlab-desktop/jlab_server/lib/python3.12/site-packages/qiskit_ibm_provider/ibm_provider.py:660\u001b[0m, in \u001b[0;36mIBMProvider.get_backend\u001b[0;34m(self, name, instance, **kwargs)\u001b[0m\n\u001b[1;32m    643\u001b[0m \u001b[38;5;250m\u001b[39m\u001b[38;5;124;03m\"\"\"Return a single backend matching the specified filtering.\u001b[39;00m\n\u001b[1;32m    644\u001b[0m \n\u001b[1;32m    645\u001b[0m \u001b[38;5;124;03mArgs:\u001b[39;00m\n\u001b[0;32m   (...)\u001b[0m\n\u001b[1;32m    657\u001b[0m \u001b[38;5;124;03m        `project` are specified.\u001b[39;00m\n\u001b[1;32m    658\u001b[0m \u001b[38;5;124;03m\"\"\"\u001b[39;00m\n\u001b[1;32m    659\u001b[0m \u001b[38;5;66;03m# pylint: disable=arguments-differ\u001b[39;00m\n\u001b[0;32m--> 660\u001b[0m backends \u001b[38;5;241m=\u001b[39m \u001b[38;5;28;43mself\u001b[39;49m\u001b[38;5;241;43m.\u001b[39;49m\u001b[43mbackends\u001b[49m\u001b[43m(\u001b[49m\u001b[43mname\u001b[49m\u001b[43m,\u001b[49m\u001b[43m \u001b[49m\u001b[43minstance\u001b[49m\u001b[38;5;241;43m=\u001b[39;49m\u001b[43minstance\u001b[49m\u001b[43m,\u001b[49m\u001b[43m \u001b[49m\u001b[38;5;241;43m*\u001b[39;49m\u001b[38;5;241;43m*\u001b[39;49m\u001b[43mkwargs\u001b[49m\u001b[43m)\u001b[49m\n\u001b[1;32m    661\u001b[0m \u001b[38;5;28;01mif\u001b[39;00m \u001b[38;5;28mlen\u001b[39m(backends) \u001b[38;5;241m>\u001b[39m \u001b[38;5;241m1\u001b[39m:\n\u001b[1;32m    662\u001b[0m     \u001b[38;5;28;01mraise\u001b[39;00m QiskitBackendNotFoundError(\n\u001b[1;32m    663\u001b[0m         \u001b[38;5;124m\"\u001b[39m\u001b[38;5;124mMore than one backend matches the criteria\u001b[39m\u001b[38;5;124m\"\u001b[39m\n\u001b[1;32m    664\u001b[0m     )\n",
      "File \u001b[0;32m~/Library/jupyterlab-desktop/jlab_server/lib/python3.12/site-packages/qiskit_ibm_provider/ibm_provider.py:561\u001b[0m, in \u001b[0;36mIBMProvider.backends\u001b[0;34m(self, name, filters, min_num_qubits, instance, **kwargs)\u001b[0m\n\u001b[1;32m    531\u001b[0m \u001b[38;5;250m\u001b[39m\u001b[38;5;124;03m\"\"\"Return all backends accessible via this account, subject to optional filtering.\u001b[39;00m\n\u001b[1;32m    532\u001b[0m \n\u001b[1;32m    533\u001b[0m \u001b[38;5;124;03mArgs:\u001b[39;00m\n\u001b[0;32m   (...)\u001b[0m\n\u001b[1;32m    558\u001b[0m \u001b[38;5;124;03m    The list of available backends that match the filter.\u001b[39;00m\n\u001b[1;32m    559\u001b[0m \u001b[38;5;124;03m\"\"\"\u001b[39;00m\n\u001b[1;32m    560\u001b[0m \u001b[38;5;66;03m# pylint: disable=arguments-differ\u001b[39;00m\n\u001b[0;32m--> 561\u001b[0m \u001b[38;5;28;01mreturn\u001b[39;00m \u001b[38;5;28;43mself\u001b[39;49m\u001b[38;5;241;43m.\u001b[39;49m\u001b[43m_backend\u001b[49m\u001b[38;5;241;43m.\u001b[39;49m\u001b[43mbackends\u001b[49m\u001b[43m(\u001b[49m\n\u001b[1;32m    562\u001b[0m \u001b[43m    \u001b[49m\u001b[43mname\u001b[49m\u001b[38;5;241;43m=\u001b[39;49m\u001b[43mname\u001b[49m\u001b[43m,\u001b[49m\n\u001b[1;32m    563\u001b[0m \u001b[43m    \u001b[49m\u001b[43mfilters\u001b[49m\u001b[38;5;241;43m=\u001b[39;49m\u001b[43mfilters\u001b[49m\u001b[43m,\u001b[49m\n\u001b[1;32m    564\u001b[0m \u001b[43m    \u001b[49m\u001b[43mmin_num_qubits\u001b[49m\u001b[38;5;241;43m=\u001b[39;49m\u001b[43mmin_num_qubits\u001b[49m\u001b[43m,\u001b[49m\n\u001b[1;32m    565\u001b[0m \u001b[43m    \u001b[49m\u001b[43minstance\u001b[49m\u001b[38;5;241;43m=\u001b[39;49m\u001b[43minstance\u001b[49m\u001b[43m \u001b[49m\u001b[38;5;129;43;01mor\u001b[39;49;00m\u001b[43m \u001b[49m\u001b[38;5;28;43mself\u001b[39;49m\u001b[38;5;241;43m.\u001b[39;49m\u001b[43m_account\u001b[49m\u001b[38;5;241;43m.\u001b[39;49m\u001b[43minstance\u001b[49m\u001b[43m,\u001b[49m\n\u001b[1;32m    566\u001b[0m \u001b[43m    \u001b[49m\u001b[38;5;241;43m*\u001b[39;49m\u001b[38;5;241;43m*\u001b[39;49m\u001b[43mkwargs\u001b[49m\u001b[43m,\u001b[49m\n\u001b[1;32m    567\u001b[0m \u001b[43m\u001b[49m\u001b[43m)\u001b[49m\n",
      "File \u001b[0;32m~/Library/jupyterlab-desktop/jlab_server/lib/python3.12/site-packages/qiskit_ibm_provider/ibm_backend_service.py:166\u001b[0m, in \u001b[0;36mIBMBackendService.backends\u001b[0;34m(self, name, filters, min_num_qubits, instance, dynamic_circuits, **kwargs)\u001b[0m\n\u001b[1;32m    164\u001b[0m \u001b[38;5;28;01mif\u001b[39;00m name:\n\u001b[1;32m    165\u001b[0m     \u001b[38;5;28;01mif\u001b[39;00m name \u001b[38;5;129;01mnot\u001b[39;00m \u001b[38;5;129;01min\u001b[39;00m \u001b[38;5;28mself\u001b[39m\u001b[38;5;241m.\u001b[39m_backends:\n\u001b[0;32m--> 166\u001b[0m         \u001b[38;5;28;01mraise\u001b[39;00m QiskitBackendNotFoundError(\u001b[38;5;124m\"\u001b[39m\u001b[38;5;124mNo backend matches the criteria\u001b[39m\u001b[38;5;124m\"\u001b[39m)\n\u001b[1;32m    167\u001b[0m     \u001b[38;5;28;01mif\u001b[39;00m \u001b[38;5;129;01mnot\u001b[39;00m \u001b[38;5;28mself\u001b[39m\u001b[38;5;241m.\u001b[39m_backends[name] \u001b[38;5;129;01mor\u001b[39;00m instance \u001b[38;5;241m!=\u001b[39m \u001b[38;5;28mself\u001b[39m\u001b[38;5;241m.\u001b[39m_backends[name]\u001b[38;5;241m.\u001b[39m_instance:\n\u001b[1;32m    168\u001b[0m         \u001b[38;5;28mself\u001b[39m\u001b[38;5;241m.\u001b[39m_set_backend_config(name)\n",
      "\u001b[0;31mQiskitBackendNotFoundError\u001b[0m: 'No backend matches the criteria'"
     ]
    }
   ],
   "source": [
    "from qiskit.circuit.library import ZZFeatureMap, RealAmplitudes\n",
    "from qiskit.primitives import Sampler\n",
    "from qiskit_machine_learning.algorithms import VQC\n",
    "from qiskit_algorithms.optimizers import COBYLA\n",
    "from qiskit_ibm_provider import least_busy\n",
    "# Example feature map and ansatz\n",
    "feature_map = ZZFeatureMap(feature_dimension=2)\n",
    "ansatz = RealAmplitudes(num_qubits=2, reps=1)\n",
    "\n",
    "# Select a backend\n",
    "\n",
    "backend = provider.get_backend('ibmq_manila')\n",
    "\n",
    "# Initialize the Sampler\n",
    "sampler = Sampler(backend=backend)\n",
    "\n",
    "# Initialize VQC\n",
    "vqc = VQC(feature_map=feature_map,\n",
    "          ansatz=ansatz,\n",
    "          optimizer=COBYLA(),\n",
    "          sampler=sampler)\n",
    "\n",
    "# Example data (X: features, Y: labels)\n",
    "X = np.array([[0.1, 0.2], [0.2, 0.3], [0.3, 0.4]])\n",
    "Y = np.array([[1, 0], [1, 0], [0, 1]])\n",
    "\n",
    "# Fit the model\n",
    "vqc.fit(X, Y)\n"
   ]
  },
  {
   "cell_type": "code",
   "execution_count": null,
   "id": "e4cefece-acbe-49d1-bc79-f61f92b07b40",
   "metadata": {},
   "outputs": [],
   "source": []
  }
 ],
 "metadata": {
  "kernelspec": {
   "display_name": "Python 3 (ipykernel)",
   "language": "python",
   "name": "python3"
  },
  "language_info": {
   "codemirror_mode": {
    "name": "ipython",
    "version": 3
   },
   "file_extension": ".py",
   "mimetype": "text/x-python",
   "name": "python",
   "nbconvert_exporter": "python",
   "pygments_lexer": "ipython3",
   "version": "3.12.1"
  }
 },
 "nbformat": 4,
 "nbformat_minor": 5
}
