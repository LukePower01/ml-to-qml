{
 "cells": [
  {
   "cell_type": "code",
   "execution_count": 3,
   "id": "efdaac3b-2258-4734-a497-473a68ea7fb6",
   "metadata": {},
   "outputs": [
    {
     "ename": "SyntaxError",
     "evalue": "positional argument follows keyword argument (1641748963.py, line 3)",
     "output_type": "error",
     "traceback": [
      "\u001b[0;36m  File \u001b[0;32m\"/var/folders/t0/7r1s1xhd3r588zrbxd8d1pk80000gn/T/ipykernel_84969/1641748963.py\"\u001b[0;36m, line \u001b[0;32m3\u001b[0m\n\u001b[0;31m    IBMQ.save_account(overwrite=True,\"4a2b1a36805ecf250f886c317cafd3bbdf55633282b8df8b8b08857d20356615132b9d174cc3a31bd54ccabf228f08658ebedf07f8b52c67619bdf0dff703bc7\")\u001b[0m\n\u001b[0m                                                                                                                                                                       ^\u001b[0m\n\u001b[0;31mSyntaxError\u001b[0m\u001b[0;31m:\u001b[0m positional argument follows keyword argument\n"
     ]
    }
   ],
   "source": [
    "from qiskit import IBMQ\n",
    "\n",
    "IBMQ.save_account(\"4a2b1a36805ecf250f886c317cafd3bbdf55633282b8df8b8b08857d20356615132b9d174cc3a31bd54ccabf228f08658ebedf07f8b52c67619bdf0dff703bc7\")\n",
    "provider = IBMQ.load_account()"
   ]
  },
  {
   "cell_type": "code",
   "execution_count": 9,
   "id": "0cda3620-8543-49e7-9233-80d54d5513bf",
   "metadata": {},
   "outputs": [],
   "source": [
    "from sklearn import datasets\n",
    "from sklearn.model_selection import train_test_split\n",
    "from sklearn.preprocessing import StandardScaler, MinMaxScaler\n",
    "from sklearn.decomposition import PCA"
   ]
  },
  {
   "cell_type": "code",
   "execution_count": 16,
   "id": "8d652d7a-a25e-4da2-9538-486196acf9c1",
   "metadata": {},
   "outputs": [],
   "source": [
    "from qiskit import Aer\n",
    "from qiskit.utils import QuantumInstance\n",
    "from qiskit_machine_learning.algorithms import QSVC\n",
    "from qiskit_machine_learning.kernels import TrainableFidelityQuantumKernel\n",
    "from qiskit_machine_learning.kernels.algorithms import QuantumKernelTrainer\n",
    "from qiskit.circuit.library import ZZFeatureMap"
   ]
  },
  {
   "cell_type": "code",
   "execution_count": 31,
   "id": "5190a12d-2a59-4b02-b3c6-c669af31d53d",
   "metadata": {},
   "outputs": [
    {
     "ename": "ImportError",
     "evalue": "cannot import name 'QuantumKernel' from 'qiskit_machine_learning.kernels' (/Users/lukepower/opt/anaconda3/lib/python3.9/site-packages/qiskit_machine_learning/kernels/__init__.py)",
     "output_type": "error",
     "traceback": [
      "\u001b[0;31m---------------------------------------------------------------------------\u001b[0m",
      "\u001b[0;31mImportError\u001b[0m                               Traceback (most recent call last)",
      "\u001b[0;32m/var/folders/t0/7r1s1xhd3r588zrbxd8d1pk80000gn/T/ipykernel_84969/4005919337.py\u001b[0m in \u001b[0;36m<module>\u001b[0;34m\u001b[0m\n\u001b[0;32m----> 1\u001b[0;31m \u001b[0;32mfrom\u001b[0m \u001b[0mqiskit_machine_learning\u001b[0m\u001b[0;34m.\u001b[0m\u001b[0mkernels\u001b[0m \u001b[0;32mimport\u001b[0m \u001b[0mQuantumKernel\u001b[0m\u001b[0;34m\u001b[0m\u001b[0;34m\u001b[0m\u001b[0m\n\u001b[0m",
      "\u001b[0;31mImportError\u001b[0m: cannot import name 'QuantumKernel' from 'qiskit_machine_learning.kernels' (/Users/lukepower/opt/anaconda3/lib/python3.9/site-packages/qiskit_machine_learning/kernels/__init__.py)"
     ]
    }
   ],
   "source": [
    "from qiskit_machine_learning.kernels import QuantumKernel\n"
   ]
  },
  {
   "cell_type": "code",
   "execution_count": 17,
   "id": "b04c882c-f085-469a-9dac-9e6bfe5e6e74",
   "metadata": {},
   "outputs": [],
   "source": [
    "import numpy as np\n",
    "import matplotlib.pyplot as plt"
   ]
  },
  {
   "cell_type": "code",
   "execution_count": 29,
   "id": "e022ecb6-045f-48f8-8a87-e9932d1d8799",
   "metadata": {},
   "outputs": [],
   "source": [
    "class QSVM_routine:\n",
    "    def __init__(self, feature_dim=2, train_test_split=0.3, train_samples=5, test_samples=2, seed=0, shots=1024):\n",
    "        self.feature_dim = feature_dim\n",
    "        self.train_test_split = train_test_split\n",
    "        self.train_samples = train_samples\n",
    "        self.test_samples = test_samples\n",
    "        self.seed = seed\n",
    "        self.shots = shots\n",
    "\n",
    "    def train_test_datasets(self):\n",
    "        self.class_labels = [r'A', r'B']\n",
    "        data, target = datasets.load_breast_cancer(return_X_y=True)\n",
    "        train_X, test_X, train_y, test_y = train_test_split(data, target, test_size=self.train_test_split, random_state=self.seed)\n",
    "        \n",
    "        # Normalization\n",
    "        scaler = StandardScaler().fit(train_X)\n",
    "        train_X = scaler.transform(train_X)\n",
    "        test_X = scaler.transform(test_X)\n",
    "        \n",
    "        # PCA for dimensionality reduction\n",
    "        pca = PCA(n_components=self.feature_dim).fit(train_X)\n",
    "        train_X = pca.transform(train_X)\n",
    "        test_X = pca.transform(test_X)\n",
    "        \n",
    "        # Scaling to (-1, +1)\n",
    "        min_max_scaler = MinMaxScaler((-1, 1)).fit(np.concatenate((train_X, test_X), axis=0))\n",
    "        train_X = min_max_scaler.transform(train_X)\n",
    "        test_X = min_max_scaler.transform(test_X)\n",
    "        \n",
    "        # Selecting samples\n",
    "        self.train_X = train_X[:self.train_samples]\n",
    "        self.train_y = train_y[:self.train_samples]\n",
    "        self.test_X = test_X[:self.test_samples]\n",
    "        self.test_y = test_y[:self.test_samples]\n",
    "\n",
    "    def train_model(self):\n",
    "        backend = Aer.get_backend('qasm_simulator')\n",
    "        feature_map = ZZFeatureMap(feature_dimension=self.feature_dim, reps=2, entanglement='linear')\n",
    "        quantum_kernel = QuantumKernel(feature_map=feature_map, quantum_instance=QuantumInstance(backend, shots=self.shots))\n",
    "        \n",
    "        qsvc = QSVC(quantum_kernel=quantum_kernel)\n",
    "        qsvc.fit(self.train_X, self.train_y)\n",
    "        score = qsvc.score(self.test_X, self.test_y)\n",
    "        \n",
    "        print(f\"Test Accuracy: {score}\")\n",
    "        \n",
    "    def main(self):\n",
    "        self.train_test_datasets()\n",
    "        self.train_model()"
   ]
  },
  {
   "cell_type": "code",
   "execution_count": 30,
   "id": "56174fc5-72a2-4aa1-82a0-a5bf50da360a",
   "metadata": {},
   "outputs": [
    {
     "ename": "NameError",
     "evalue": "name 'QuantumKernel' is not defined",
     "output_type": "error",
     "traceback": [
      "\u001b[0;31m---------------------------------------------------------------------------\u001b[0m",
      "\u001b[0;31mNameError\u001b[0m                                 Traceback (most recent call last)",
      "\u001b[0;32m/var/folders/t0/7r1s1xhd3r588zrbxd8d1pk80000gn/T/ipykernel_84969/267777828.py\u001b[0m in \u001b[0;36m<module>\u001b[0;34m\u001b[0m\n\u001b[1;32m      1\u001b[0m \u001b[0;32mif\u001b[0m \u001b[0m__name__\u001b[0m \u001b[0;34m==\u001b[0m \u001b[0;34m'__main__'\u001b[0m\u001b[0;34m:\u001b[0m\u001b[0;34m\u001b[0m\u001b[0;34m\u001b[0m\u001b[0m\n\u001b[1;32m      2\u001b[0m     \u001b[0mqsvm_routine\u001b[0m \u001b[0;34m=\u001b[0m \u001b[0mQSVM_routine\u001b[0m\u001b[0;34m(\u001b[0m\u001b[0;34m)\u001b[0m\u001b[0;34m\u001b[0m\u001b[0;34m\u001b[0m\u001b[0m\n\u001b[0;32m----> 3\u001b[0;31m     \u001b[0mqsvm_routine\u001b[0m\u001b[0;34m.\u001b[0m\u001b[0mmain\u001b[0m\u001b[0;34m(\u001b[0m\u001b[0;34m)\u001b[0m\u001b[0;34m\u001b[0m\u001b[0;34m\u001b[0m\u001b[0m\n\u001b[0m",
      "\u001b[0;32m/var/folders/t0/7r1s1xhd3r588zrbxd8d1pk80000gn/T/ipykernel_84969/2870006423.py\u001b[0m in \u001b[0;36mmain\u001b[0;34m(self)\u001b[0m\n\u001b[1;32m     47\u001b[0m     \u001b[0;32mdef\u001b[0m \u001b[0mmain\u001b[0m\u001b[0;34m(\u001b[0m\u001b[0mself\u001b[0m\u001b[0;34m)\u001b[0m\u001b[0;34m:\u001b[0m\u001b[0;34m\u001b[0m\u001b[0;34m\u001b[0m\u001b[0m\n\u001b[1;32m     48\u001b[0m         \u001b[0mself\u001b[0m\u001b[0;34m.\u001b[0m\u001b[0mtrain_test_datasets\u001b[0m\u001b[0;34m(\u001b[0m\u001b[0;34m)\u001b[0m\u001b[0;34m\u001b[0m\u001b[0;34m\u001b[0m\u001b[0m\n\u001b[0;32m---> 49\u001b[0;31m         \u001b[0mself\u001b[0m\u001b[0;34m.\u001b[0m\u001b[0mtrain_model\u001b[0m\u001b[0;34m(\u001b[0m\u001b[0;34m)\u001b[0m\u001b[0;34m\u001b[0m\u001b[0;34m\u001b[0m\u001b[0m\n\u001b[0m",
      "\u001b[0;32m/var/folders/t0/7r1s1xhd3r588zrbxd8d1pk80000gn/T/ipykernel_84969/2870006423.py\u001b[0m in \u001b[0;36mtrain_model\u001b[0;34m(self)\u001b[0m\n\u001b[1;32m     37\u001b[0m         \u001b[0mbackend\u001b[0m \u001b[0;34m=\u001b[0m \u001b[0mAer\u001b[0m\u001b[0;34m.\u001b[0m\u001b[0mget_backend\u001b[0m\u001b[0;34m(\u001b[0m\u001b[0;34m'qasm_simulator'\u001b[0m\u001b[0;34m)\u001b[0m\u001b[0;34m\u001b[0m\u001b[0;34m\u001b[0m\u001b[0m\n\u001b[1;32m     38\u001b[0m         \u001b[0mfeature_map\u001b[0m \u001b[0;34m=\u001b[0m \u001b[0mZZFeatureMap\u001b[0m\u001b[0;34m(\u001b[0m\u001b[0mfeature_dimension\u001b[0m\u001b[0;34m=\u001b[0m\u001b[0mself\u001b[0m\u001b[0;34m.\u001b[0m\u001b[0mfeature_dim\u001b[0m\u001b[0;34m,\u001b[0m \u001b[0mreps\u001b[0m\u001b[0;34m=\u001b[0m\u001b[0;36m2\u001b[0m\u001b[0;34m,\u001b[0m \u001b[0mentanglement\u001b[0m\u001b[0;34m=\u001b[0m\u001b[0;34m'linear'\u001b[0m\u001b[0;34m)\u001b[0m\u001b[0;34m\u001b[0m\u001b[0;34m\u001b[0m\u001b[0m\n\u001b[0;32m---> 39\u001b[0;31m         \u001b[0mquantum_kernel\u001b[0m \u001b[0;34m=\u001b[0m \u001b[0mQuantumKernel\u001b[0m\u001b[0;34m(\u001b[0m\u001b[0mfeature_map\u001b[0m\u001b[0;34m=\u001b[0m\u001b[0mfeature_map\u001b[0m\u001b[0;34m,\u001b[0m \u001b[0mquantum_instance\u001b[0m\u001b[0;34m=\u001b[0m\u001b[0mQuantumInstance\u001b[0m\u001b[0;34m(\u001b[0m\u001b[0mbackend\u001b[0m\u001b[0;34m,\u001b[0m \u001b[0mshots\u001b[0m\u001b[0;34m=\u001b[0m\u001b[0mself\u001b[0m\u001b[0;34m.\u001b[0m\u001b[0mshots\u001b[0m\u001b[0;34m)\u001b[0m\u001b[0;34m)\u001b[0m\u001b[0;34m\u001b[0m\u001b[0;34m\u001b[0m\u001b[0m\n\u001b[0m\u001b[1;32m     40\u001b[0m \u001b[0;34m\u001b[0m\u001b[0m\n\u001b[1;32m     41\u001b[0m         \u001b[0mqsvc\u001b[0m \u001b[0;34m=\u001b[0m \u001b[0mQSVC\u001b[0m\u001b[0;34m(\u001b[0m\u001b[0mquantum_kernel\u001b[0m\u001b[0;34m=\u001b[0m\u001b[0mquantum_kernel\u001b[0m\u001b[0;34m)\u001b[0m\u001b[0;34m\u001b[0m\u001b[0;34m\u001b[0m\u001b[0m\n",
      "\u001b[0;31mNameError\u001b[0m: name 'QuantumKernel' is not defined"
     ]
    }
   ],
   "source": [
    "if __name__ == '__main__':\n",
    "    qsvm_routine = QSVM_routine()\n",
    "    qsvm_routine.main()"
   ]
  }
 ],
 "metadata": {
  "kernelspec": {
   "display_name": "Python 3 (ipykernel)",
   "language": "python",
   "name": "python3"
  },
  "language_info": {
   "codemirror_mode": {
    "name": "ipython",
    "version": 3
   },
   "file_extension": ".py",
   "mimetype": "text/x-python",
   "name": "python",
   "nbconvert_exporter": "python",
   "pygments_lexer": "ipython3",
   "version": "3.9.13"
  }
 },
 "nbformat": 4,
 "nbformat_minor": 5
}
