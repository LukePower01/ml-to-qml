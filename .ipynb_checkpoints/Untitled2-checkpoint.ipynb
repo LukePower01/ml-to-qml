{
 "cells": [
  {
   "cell_type": "code",
   "execution_count": 3,
   "id": "fb670793-7d3f-457d-b344-0fbadfa30659",
   "metadata": {},
   "outputs": [],
   "source": [
    "import time\n",
    "start_time = time.time()\n",
    "from qiskit_ibm_provider import IBMProvider\n",
    "provider = IBMProvider()\n",
    "# Standard imports\n",
    "import numpy as np\n",
    "import pandas as pd\n",
    "import time\n",
    "import warnings\n",
    "\n",
    "# Qiskit \n",
    "from qiskit import QuantumCircuit, transpile\n",
    "from qiskit.circuit import Parameter\n",
    "from qiskit.circuit.library import ZZFeatureMap, RealAmplitudes, EfficientSU2\n",
    "from qiskit_machine_learning.algorithms.classifiers import NeuralNetworkClassifier, VQC\n",
    "from qiskit_machine_learning.algorithms.regressors import NeuralNetworkRegressor, VQR\n",
    "from qiskit_machine_learning.neural_networks import SamplerQNN, EstimatorQNN\n",
    "from qiskit_machine_learning.circuit.library import QNNCircuit\n",
    "from qiskit.primitives import Sampler\n",
    "from qiskit_algorithms.optimizers import COBYLA, L_BFGS_B, ADAM, SLSQP, AQGD\n",
    "from qiskit_algorithms.utils import algorithm_globals\n",
    "\n",
    "# Visualization libraries\n",
    "from matplotlib import pyplot as plt\n",
    "import seaborn as sns\n",
    "from qiskit.visualization import plot_histogram\n",
    "from IPython.display import clear_output\n",
    "\n",
    "# Machine learning and preprocessing\n",
    "from sklearn.datasets import load_iris, load_digits,load_wine, load_breast_cancer\n",
    "from sklearn.model_selection import train_test_split\n",
    "from sklearn.preprocessing import StandardScaler, MinMaxScaler\n",
    "from sklearn.exceptions import ConvergenceWarning\n",
    "from sklearn.svm import SVC\n",
    "from sklearn.ensemble import RandomForestClassifier\n",
    "from sklearn.decomposition import PCA"
   ]
  },
  {
   "cell_type": "code",
   "execution_count": 8,
   "id": "cbbd6b49-0404-47dd-8be3-77af28799512",
   "metadata": {},
   "outputs": [],
   "source": []
  },
  {
   "cell_type": "code",
   "execution_count": 14,
   "id": "c53a54e5-a46d-480e-93b0-ac591bde7d43",
   "metadata": {},
   "outputs": [],
   "source": [
    "datasets = [load_iris, load_digits, load_wine, load_breast_cancer]  \n",
    "\n",
    "def data_preprocess(dataset):\n",
    "    data = dataset()\n",
    "    dataset_features = data.data\n",
    "    dataset_labels = data.target\n",
    "    dataset_features = MinMaxScaler().fit_transform(dataset_features)\n",
    "    algorithm_globals.random_seed = 4701\n",
    "    \n",
    "    dataset_train_features, dataset_test_features, dataset_train_labels, dataset_test_labels = train_test_split(\n",
    "        dataset_features, dataset_labels, train_size=0.8, random_state=algorithm_globals.random_seed)\n",
    "    \n",
    "    print(f'{dataset.__name__} preprocessed')\n",
    "    return dataset_train_features, dataset_test_features, dataset_train_labels, dataset_test_labels"
   ]
  },
  {
   "cell_type": "code",
   "execution_count": 15,
   "id": "f30d55b7-6f27-4f12-b722-67b0273dd24f",
   "metadata": {},
   "outputs": [
    {
     "name": "stdout",
     "output_type": "stream",
     "text": [
      "load_breast_cancer preprocessed\n"
     ]
    },
    {
     "ename": "NameError",
     "evalue": "name 'accuracy_score' is not defined",
     "output_type": "error",
     "traceback": [
      "\u001b[0;31m---------------------------------------------------------------------------\u001b[0m",
      "\u001b[0;31mNameError\u001b[0m                                 Traceback (most recent call last)",
      "Cell \u001b[0;32mIn[15], line 8\u001b[0m\n\u001b[1;32m      5\u001b[0m svc\u001b[38;5;241m.\u001b[39mfit(train_features, train_labels)\n\u001b[1;32m      7\u001b[0m predictions \u001b[38;5;241m=\u001b[39m svc\u001b[38;5;241m.\u001b[39mpredict(test_features)\n\u001b[0;32m----> 8\u001b[0m accuracy \u001b[38;5;241m=\u001b[39m \u001b[43maccuracy_score\u001b[49m(test_labels, predictions)\n\u001b[1;32m     10\u001b[0m \u001b[38;5;28mprint\u001b[39m(\u001b[38;5;124mf\u001b[39m\u001b[38;5;124m'\u001b[39m\u001b[38;5;132;01m{\u001b[39;00mdataset_func\u001b[38;5;241m.\u001b[39m\u001b[38;5;18m__name__\u001b[39m\u001b[38;5;132;01m}\u001b[39;00m\u001b[38;5;124m SVC Accuracy: \u001b[39m\u001b[38;5;132;01m{\u001b[39;00maccuracy\u001b[38;5;132;01m:\u001b[39;00m\u001b[38;5;124m.4f\u001b[39m\u001b[38;5;132;01m}\u001b[39;00m\u001b[38;5;124m'\u001b[39m)\n",
      "\u001b[0;31mNameError\u001b[0m: name 'accuracy_score' is not defined"
     ]
    }
   ],
   "source": [
    "for dataset in datasets:\n",
    "    train_features, test_features, train_labels, test_labels = data_preprocess(dataset_func)\n",
    "    \n",
    "    svc = SVC()\n",
    "    svc.fit(train_features, train_labels)\n",
    "    \n",
    "    predictions = svc.predict(test_features)\n",
    "    accuracy = accuracy_score(test_labels, predictions)\n",
    "    \n",
    "    print(f'{dataset_func.__name__} SVC Accuracy: {accuracy:.4f}')\n"
   ]
  },
  {
   "cell_type": "code",
   "execution_count": null,
   "id": "31588bef-6d0d-4d20-9e04-15c1db9a341c",
   "metadata": {},
   "outputs": [],
   "source": []
  }
 ],
 "metadata": {
  "kernelspec": {
   "display_name": "Python 3 (ipykernel)",
   "language": "python",
   "name": "python3"
  },
  "language_info": {
   "codemirror_mode": {
    "name": "ipython",
    "version": 3
   },
   "file_extension": ".py",
   "mimetype": "text/x-python",
   "name": "python",
   "nbconvert_exporter": "python",
   "pygments_lexer": "ipython3",
   "version": "3.12.1"
  }
 },
 "nbformat": 4,
 "nbformat_minor": 5
}
