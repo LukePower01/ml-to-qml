{
 "cells": [
  {
   "cell_type": "code",
   "execution_count": 1,
   "id": "7a83c520-b3a7-48ae-a0e6-eda6414c61f3",
   "metadata": {},
   "outputs": [],
   "source": [
    "import time\n",
    "start_time = time.time()\n",
    "from qiskit_ibm_provider import IBMProvider\n",
    "provider = IBMProvider()"
   ]
  },
  {
   "cell_type": "code",
   "execution_count": 2,
   "id": "95ed1c6b-34f8-4c15-84af-28ae793d183b",
   "metadata": {},
   "outputs": [],
   "source": [
    "# Standard imports\n",
    "import numpy as np\n",
    "import pandas as pd\n",
    "import time\n",
    "import warnings\n",
    "\n",
    "# Qiskit \n",
    "from qiskit import QuantumCircuit, transpile\n",
    "from qiskit.circuit import Parameter\n",
    "from qiskit.circuit.library import ZZFeatureMap, RealAmplitudes, EfficientSU2\n",
    "from qiskit_machine_learning.algorithms.classifiers import NeuralNetworkClassifier, VQC\n",
    "from qiskit_machine_learning.algorithms.regressors import NeuralNetworkRegressor, VQR\n",
    "from qiskit_machine_learning.neural_networks import SamplerQNN, EstimatorQNN\n",
    "from qiskit_machine_learning.circuit.library import QNNCircuit\n",
    "from qiskit.primitives import Sampler\n",
    "from qiskit_algorithms.optimizers import COBYLA, L_BFGS_B, ADAM, SLSQP, AQGD\n",
    "from qiskit_algorithms.utils import algorithm_globals\n",
    "\n",
    "# Visualization libraries\n",
    "from matplotlib import pyplot as plt\n",
    "import seaborn as sns\n",
    "from qiskit.visualization import plot_histogram\n",
    "from IPython.display import clear_output\n",
    "\n",
    "# Machine learning and preprocessing\n",
    "from sklearn.datasets import load_iris\n",
    "from sklearn.model_selection import train_test_split\n",
    "from sklearn.preprocessing import StandardScaler, MinMaxScaler\n",
    "from sklearn.exceptions import ConvergenceWarning\n",
    "from sklearn.svm import SVC\n",
    "from sklearn.ensemble import RandomForestClassifier\n",
    "from sklearn.decomposition import PCA\n",
    "\n",
    "from functools import partial"
   ]
  },
  {
   "cell_type": "code",
   "execution_count": 3,
   "id": "6027278d-cabd-4098-9815-216707be397d",
   "metadata": {},
   "outputs": [],
   "source": [
    "from sklearn.datasets import load_iris\n",
    "iris_data = load_iris()\n",
    "features = iris_data.data\n",
    "labels = iris_data.target\n",
    "features = MinMaxScaler().fit_transform(features)\n",
    "algorithm_globals.random_seed = 4701\n",
    "\n",
    "train_features, test_features, train_labels, test_labels = train_test_split(\n",
    "    features, labels, train_size = 0.8, random_state = algorithm_globals.random_seed)\n",
    "num_features = features.shape[1]"
   ]
  },
  {
   "cell_type": "code",
   "execution_count": 5,
   "id": "d7fd3f9a-5928-4b7c-b485-323ec217406c",
   "metadata": {},
   "outputs": [],
   "source": [
    "from qiskit.circuit.library import ZZFeatureMap\n",
    "from qiskit.primitives import Sampler\n",
    "from qiskit_algorithms.state_fidelities import ComputeUncompute\n",
    "from qiskit_machine_learning.kernels import FidelityQuantumKernel\n",
    "\n",
    "adhoc_feature_map = ZZFeatureMap(feature_dimension=num_features, reps=2, entanglement=\"linear\")\n",
    "\n",
    "sampler = Sampler()\n",
    "\n",
    "fidelity = ComputeUncompute(sampler=sampler)\n",
    "\n",
    "adhoc_kernel = FidelityQuantumKernel(fidelity=fidelity, feature_map=adhoc_feature_map)"
   ]
  },
  {
   "cell_type": "code",
   "execution_count": 7,
   "id": "1f31cabb-4b4a-493c-af2d-4de87c66cbfe",
   "metadata": {},
   "outputs": [],
   "source": [
    "data_descriptions = [\"Full Features\", \"Missing Sepal Length\", \"Missing Sepal Width\", \"Missing Petal Length\",\n",
    "                     \"Missing Petal Width\"]"
   ]
  },
  {
   "cell_type": "code",
   "execution_count": 9,
   "id": "d3fa80fb-d8e1-4845-a6de-49afb27ebde6",
   "metadata": {},
   "outputs": [],
   "source": [
    "full_features = iris_data.data"
   ]
  },
  {
   "cell_type": "code",
   "execution_count": 6,
   "id": "64aa5ea0-20b5-457f-8d49-0d91361330b6",
   "metadata": {},
   "outputs": [
    {
     "name": "stdout",
     "output_type": "stream",
     "text": [
      "QSVC classification test score: 0.8666666666666667\n"
     ]
    }
   ],
   "source": [
    "from qiskit_machine_learning.algorithms import QSVC\n",
    "\n",
    "qsvc = QSVC(quantum_kernel=adhoc_kernel)\n",
    "\n",
    "qsvc.fit(train_features, train_labels)\n",
    "\n",
    "qsvc_score = qsvc.score(test_features, test_labels)\n",
    "\n",
    "print(f\"QSVC classification test score: {qsvc_score}\")"
   ]
  },
  {
   "cell_type": "code",
   "execution_count": 10,
   "id": "b974337a-b0e3-4885-b029-fb29e33a1968",
   "metadata": {},
   "outputs": [
    {
     "name": "stdout",
     "output_type": "stream",
     "text": [
      "Full Features - QSVC classification test score: 0.8666666666666667, Training time: 50.44 seconds\n",
      "Missing Sepal Length - QSVC classification test score: 0.9, Training time: 38.94 seconds\n",
      "Missing Sepal Width - QSVC classification test score: 0.8666666666666667, Training time: 34.46 seconds\n",
      "Missing Petal Length - QSVC classification test score: 0.9, Training time: 34.90 seconds\n",
      "Missing Petal Width - QSVC classification test score: 0.8666666666666667, Training time: 33.74 seconds\n"
     ]
    }
   ],
   "source": [
    "# Assuming full_features and labels are defined earlier\n",
    "from sklearn.preprocessing import MinMaxScaler\n",
    "from sklearn.model_selection import train_test_split\n",
    "import numpy as np\n",
    "import matplotlib.pyplot as plt\n",
    "from qiskit_algorithms.utils import algorithm_globals\n",
    "import time\n",
    "\n",
    "# Initialize QSVC with adhoc quantum kernel\n",
    "qsvc_scores = {}\n",
    "training_times = {}\n",
    "\n",
    "for i, description in enumerate(data_descriptions):\n",
    "    # Adjust features based on the description\n",
    "    if i == 0:\n",
    "        adjusted_features = full_features.copy()\n",
    "    else:\n",
    "        adjusted_features = np.delete(full_features, i-1, axis=1)\n",
    "    \n",
    "    # Update the number of features based on the adjusted features\n",
    "    num_features = adjusted_features.shape[1]\n",
    "    \n",
    "    # Scale features and split data\n",
    "    adjusted_features = MinMaxScaler().fit_transform(adjusted_features)\n",
    "    train_features, test_features, train_labels, test_labels = train_test_split(\n",
    "        adjusted_features, labels, train_size=0.8, random_state=algorithm_globals.random_seed)\n",
    "    \n",
    "    # Update feature map for QSVC according to the current number of features\n",
    "    adhoc_feature_map = ZZFeatureMap(feature_dimension=num_features, reps=2, entanglement=\"linear\")\n",
    "    adhoc_kernel = FidelityQuantumKernel(fidelity=fidelity, feature_map=adhoc_feature_map)\n",
    "    qsvc = QSVC(quantum_kernel=adhoc_kernel)\n",
    "    \n",
    "    # Measure training time and fit the model\n",
    "    start_time = time.time()\n",
    "    qsvc.fit(train_features, train_labels)\n",
    "    elapsed_time = time.time() - start_time\n",
    "    training_times[description] = elapsed_time\n",
    "    \n",
    "    # Evaluate model performance\n",
    "    qsvc_score = qsvc.score(test_features, test_labels)\n",
    "    qsvc_scores[description] = qsvc_score\n",
    "    \n",
    "    print(f\"{description} - QSVC classification test score: {qsvc_score}, Training time: {elapsed_time:.2f} seconds\")\n",
    "\n",
    "# Plotting or further analysis can be done based on qsvc_scores and training_times\n"
   ]
  }
 ],
 "metadata": {
  "kernelspec": {
   "display_name": "Python 3 (ipykernel)",
   "language": "python",
   "name": "python3"
  },
  "language_info": {
   "codemirror_mode": {
    "name": "ipython",
    "version": 3
   },
   "file_extension": ".py",
   "mimetype": "text/x-python",
   "name": "python",
   "nbconvert_exporter": "python",
   "pygments_lexer": "ipython3",
   "version": "3.12.1"
  }
 },
 "nbformat": 4,
 "nbformat_minor": 5
}
