{
 "cells": [
  {
   "cell_type": "code",
   "execution_count": 1,
   "id": "fb670793-7d3f-457d-b344-0fbadfa30659",
   "metadata": {},
   "outputs": [],
   "source": [
    "import time\n",
    "start_time = time.time()\n",
    "from qiskit_ibm_provider import IBMProvider\n",
    "provider = IBMProvider()\n",
    "# Standard imports\n",
    "import numpy as np\n",
    "import pandas as pd\n",
    "import time\n",
    "import warnings\n",
    "\n",
    "# Qiskit \n",
    "from qiskit import QuantumCircuit, transpile\n",
    "from qiskit.circuit import Parameter\n",
    "from qiskit.circuit.library import ZZFeatureMap, RealAmplitudes, EfficientSU2\n",
    "from qiskit_machine_learning.algorithms.classifiers import NeuralNetworkClassifier, VQC\n",
    "from qiskit_machine_learning.algorithms.regressors import NeuralNetworkRegressor, VQR\n",
    "from qiskit_machine_learning.neural_networks import SamplerQNN, EstimatorQNN\n",
    "from qiskit_machine_learning.circuit.library import QNNCircuit\n",
    "from qiskit.primitives import Sampler\n",
    "from qiskit_algorithms.optimizers import COBYLA, L_BFGS_B, ADAM, SLSQP, AQGD\n",
    "from qiskit_algorithms.utils import algorithm_globals\n",
    "\n",
    "# Visualization libraries\n",
    "from matplotlib import pyplot as plt\n",
    "import seaborn as sns\n",
    "from qiskit.visualization import plot_histogram\n",
    "from IPython.display import clear_output\n",
    "\n",
    "# Machine learning and preprocessing\n",
    "from sklearn.datasets import load_iris, load_digits,load_wine, load_breast_cancer\n",
    "from sklearn.model_selection import train_test_split\n",
    "from sklearn.preprocessing import StandardScaler, MinMaxScaler\n",
    "from sklearn.exceptions import ConvergenceWarning\n",
    "from sklearn.svm import SVC\n",
    "from sklearn.ensemble import RandomForestClassifier\n",
    "from sklearn.decomposition import PCA"
   ]
  },
  {
   "cell_type": "code",
   "execution_count": null,
   "id": "cbbd6b49-0404-47dd-8be3-77af28799512",
   "metadata": {},
   "outputs": [],
   "source": []
  },
  {
   "cell_type": "code",
   "execution_count": 2,
   "id": "c53a54e5-a46d-480e-93b0-ac591bde7d43",
   "metadata": {},
   "outputs": [],
   "source": [
    "datasets = [load_iris, load_digits, load_wine, load_breast_cancer]  \n",
    "\n",
    "def data_preprocess(dataset):\n",
    "    data = dataset()\n",
    "    dataset_features = data.data\n",
    "    dataset_labels = data.target\n",
    "    dataset_features = MinMaxScaler().fit_transform(dataset_features)\n",
    "    algorithm_globals.random_seed = 4701\n",
    "    data_set_num_features = dataset_features.shape[1]\n",
    "    dataset_train_features, dataset_test_features, dataset_train_labels, dataset_test_labels = train_test_split(\n",
    "        dataset_features, dataset_labels, train_size=0.8, random_state=algorithm_globals.random_seed)\n",
    "    \n",
    "    print(f'{dataset.__name__} preprocessed')\n",
    "    return dataset_train_features, dataset_test_features, dataset_train_labels, dataset_test_labels, data_set_num_features"
   ]
  },
  {
   "cell_type": "code",
   "execution_count": 3,
   "id": "f30d55b7-6f27-4f12-b722-67b0273dd24f",
   "metadata": {},
   "outputs": [
    {
     "name": "stdout",
     "output_type": "stream",
     "text": [
      "load_iris\n",
      "load_iris preprocessed\n",
      "load_iris SVC Score: 0.9000\n",
      "load_digits\n",
      "load_digits preprocessed\n",
      "load_digits SVC Score: 0.9917\n",
      "load_wine\n",
      "load_wine preprocessed\n",
      "load_wine SVC Score: 1.0000\n",
      "load_breast_cancer\n",
      "load_breast_cancer preprocessed\n",
      "load_breast_cancer SVC Score: 0.9825\n"
     ]
    }
   ],
   "source": [
    "for dataset in datasets:\n",
    "    print(f'{dataset.__name__}')\n",
    "    train_features, test_features, train_labels, test_labels, num_features = data_preprocess(dataset)\n",
    "    \n",
    "    svc = SVC()\n",
    "    svc.fit(train_features, train_labels)\n",
    "    \n",
    "    predictions = svc.predict(test_features)\n",
    "    accuracy = svc.score(test_features, test_labels)\n",
    "    \n",
    "    print(f'{dataset.__name__} SVC Score: {accuracy:.4f}')\n"
   ]
  },
  {
   "cell_type": "code",
   "execution_count": 4,
   "id": "637986b4-7f10-439e-8718-4ddd038e17fc",
   "metadata": {},
   "outputs": [
    {
     "name": "stdout",
     "output_type": "stream",
     "text": [
      "load_iris preprocessed\n",
      "load_digits preprocessed\n",
      "load_wine preprocessed\n",
      "load_breast_cancer preprocessed\n"
     ]
    }
   ],
   "source": [
    "for dataset in datasets:\n",
    "    train_features, test_features, train_labels, test_labels, num_features = data_preprocess(dataset)\n",
    "feature_map = ZZFeatureMap(feature_dimension=num_features, reps = 1)\n",
    "ansatz = RealAmplitudes(num_qubits=num_features, reps = 3)\n",
    "optimizer = COBYLA(maxiter=100)\n",
    "sampler = Sampler()"
   ]
  },
  {
   "cell_type": "code",
   "execution_count": null,
   "id": "077b81fa-292c-4d6b-8523-4dd8e992a4a0",
   "metadata": {},
   "outputs": [
    {
     "name": "stdout",
     "output_type": "stream",
     "text": [
      "load_iris preprocessed\n",
      "load_digits preprocessed\n",
      "load_wine preprocessed\n",
      "load_breast_cancer preprocessed\n"
     ]
    }
   ],
   "source": [
    "for dataset in datasets:\n",
    "    train_features, test_features, train_labels, test_labels, num_features = data_preprocess(dataset)\n",
    "feature_map = ZZFeatureMap(feature_dimension=num_features, reps = 1)\n",
    "ansatz = RealAmplitudes(num_qubits=num_features, reps = 3)\n",
    "optimizer = COBYLA(maxiter=100)\n",
    "sampler = Sampler()\n",
    "objective_func_vals = []\n",
    "\n",
    "# objective function characterizes the distance between the predictions and known labeled data.\n",
    "\n",
    "plt.rcParams['figure.figsize'] = (12,6)\n",
    "\n",
    "def callback_graph(weights, obj_func_eval):\n",
    "             \n",
    "# Append the value of the objective function to an array so we \n",
    "# can plot the iteration verses the objective function value\n",
    "             \n",
    "             clear_output(wait=True)\n",
    "             objective_func_vals.append(obj_func_eval)\n",
    "             plt.title('Objective function value against Iteration')\n",
    "             plt.xlabel('Iteration')\n",
    "             plt.ylabel('Objective function value')\n",
    "             plt.plot(range(len(objective_func_vals)), objective_func_vals)\n",
    "             \n",
    "             plt.show()\n",
    "\n",
    "vqc = VQC(\n",
    "    sampler = sampler, \n",
    "    feature_map = feature_map,\n",
    "    ansatz = ansatz, \n",
    "    optimizer = optimizer, \n",
    "    callback = callback_graph,)\n",
    "\n",
    "# Clear objective value history\n",
    "objective_func_vals = []\n",
    "\n",
    "start = time.time()\n",
    "vqc.fit(train_features,train_labels)\n",
    "elsapsed_time = time.time() - start \n",
    "\n",
    "print(f'Training time: {elsapsed_time}')"
   ]
  },
  {
   "cell_type": "code",
   "execution_count": null,
   "id": "c1519cfc-0f9f-4055-baca-6c4699d0b19a",
   "metadata": {},
   "outputs": [],
   "source": [
    "vqc = VQC(\n",
    "    sampler = sampler, \n",
    "    feature_map = feature_map,\n",
    "    ansatz = ansatz, \n",
    "    optimizer = optimizer, \n",
    "    callback = callback_graph,)\n",
    "\n",
    "# Clear objective value history\n",
    "objective_func_vals = []\n",
    "\n",
    "start = time.time()\n",
    "vqc.fit(train_features,train_labels)\n",
    "elsapsed_time = time.time() - start \n",
    "\n",
    "print(f'Training time: {elsapsed_time}')"
   ]
  },
  {
   "cell_type": "code",
   "execution_count": null,
   "id": "727119bf-0267-4390-a663-d482733605e7",
   "metadata": {},
   "outputs": [],
   "source": [
    "\n",
    "datasets = [load_iris, load_digits, load_wine, load_breast_cancer]  # Assuming data_preprocess is defined correctly\n",
    "\n",
    "for dataset_loader in datasets:\n",
    "    train_features, test_features, train_labels, test_labels, num_features = data_preprocess(dataset_loader())\n",
    "    feature_map = ZZFeatureMap(feature_dimension=num_features, reps=1)\n",
    "    ansatz = RealAmplitudes(num_qubits=num_features, reps=3)\n",
    "    optimizer = COBYLA(maxiter=100)\n",
    "    sampler = Sampler()\n",
    "    objective_func_vals = []  # To track objective function values\n",
    "\n",
    "    def callback_graph(weights, obj_func_eval):\n",
    "        # Append and plot the objective function value\n",
    "        clear_output(wait=True)\n",
    "        objective_func_vals.append(obj_func_eval)\n",
    "        plt.title('Objective Function Value Against Iteration')\n",
    "        plt.xlabel('Iteration')\n",
    "        plt.ylabel('Objective Function Value')\n",
    "        plt.plot(objective_func_vals)\n",
    "        plt.show()\n",
    "\n",
    "    vqc = VQC(sampler=sampler, feature_map=feature_map, ansatz=ansatz, optimizer=optimizer, callback=callback_graph)\n",
    "    \n",
    "    # Train the VQC\n",
    "    start_time = time.time()\n",
    "    vqc.fit(train_features, train_labels)\n",
    "    elapsed_time = time.time() - start_time\n",
    "\n",
    "    print(f'Training time for {dataset_loader.__name__}: {elapsed_time:.2f} seconds\\n')\n",
    "\n",
    "# Note: Ensure that data_preprocess returns the correct values in the expected order\n"
   ]
  },
  {
   "cell_type": "code",
   "execution_count": null,
   "id": "86824685-d7a5-47a3-be61-acaa4217b7ae",
   "metadata": {},
   "outputs": [],
   "source": []
  }
 ],
 "metadata": {
  "kernelspec": {
   "display_name": "Python 3 (ipykernel)",
   "language": "python",
   "name": "python3"
  },
  "language_info": {
   "codemirror_mode": {
    "name": "ipython",
    "version": 3
   },
   "file_extension": ".py",
   "mimetype": "text/x-python",
   "name": "python",
   "nbconvert_exporter": "python",
   "pygments_lexer": "ipython3",
   "version": "3.9.13"
  }
 },
 "nbformat": 4,
 "nbformat_minor": 5
}
